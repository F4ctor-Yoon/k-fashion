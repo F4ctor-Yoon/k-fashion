{
  "nbformat": 4,
  "nbformat_minor": 0,
  "metadata": {
    "colab": {
      "provenance": [],
      "machine_shape": "hm",
      "gpuType": "T4"
    },
    "kernelspec": {
      "name": "python3",
      "display_name": "Python 3"
    },
    "language_info": {
      "name": "python"
    },
    "accelerator": "GPU"
  },
  "cells": [
    {
      "cell_type": "code",
      "execution_count": null,
      "metadata": {
        "colab": {
          "base_uri": "https://localhost:8080/"
        },
        "id": "2vEwPcLt4JgW",
        "outputId": "161790f4-5deb-4f87-a4cb-6557419827ca"
      },
      "outputs": [
        {
          "output_type": "stream",
          "name": "stdout",
          "text": [
            "Downloading...\n",
            "From: https://drive.google.com/uc?id=1rzf1IQffQ-2zYXZ-aJ_9ubDdunJ8CbPF\n",
            "To: /content/dataset_masked120.zip\n",
            "100% 7.64G/7.64G [01:21<00:00, 93.6MB/s]\n"
          ]
        }
      ],
      "source": [
        "!gdown 1rzf1IQffQ-2zYXZ-aJ_9ubDdunJ8CbPF"
      ]
    },
    {
      "cell_type": "code",
      "source": [
        "from google.colab import drive\n",
        "drive.mount('/content/drive', force_remount=True)"
      ],
      "metadata": {
        "colab": {
          "base_uri": "https://localhost:8080/"
        },
        "id": "ITJwZPhQ5OUY",
        "outputId": "0de290ec-a63f-4b61-e0ac-e86b0d009336"
      },
      "execution_count": null,
      "outputs": [
        {
          "output_type": "stream",
          "name": "stdout",
          "text": [
            "Mounted at /content/drive\n"
          ]
        }
      ]
    },
    {
      "cell_type": "code",
      "source": [
        "import tensorflow as tf\n",
        "from tensorflow import keras\n",
        "from tensorflow.keras.preprocessing.image import ImageDataGenerator, array_to_img, img_to_array, load_img\n",
        "from tensorflow.keras.applications import ResNet50\n",
        "from tensorflow.keras.preprocessing.image import ImageDataGenerator\n",
        "from tensorflow.keras.optimizers import SGD\n",
        "from tensorflow.keras.optimizers import Adam, AdamW, RMSprop\n",
        "from tensorflow.keras.callbacks import LearningRateScheduler\n",
        "from tensorflow.keras.applications.vgg19 import VGG19"
      ],
      "metadata": {
        "id": "BXohM1QU5-YZ"
      },
      "execution_count": null,
      "outputs": []
    },
    {
      "cell_type": "code",
      "source": [
        "# core\n",
        "import os, pickle, json, shutil\n",
        "from zipfile import ZipFile\n",
        "import numpy as np\n",
        "import pandas as pd\n",
        "from tqdm import tqdm\n",
        "\n",
        "# Image\n",
        "import cv2\n",
        "from PIL import Image, ImageFile\n",
        "\n",
        "# visualization\n",
        "import matplotlib.pyplot as plt\n",
        "import seaborn as sns\n",
        "\n",
        "# # split\n",
        "# import splitfolders\n",
        "import tensorflow as tf\n",
        "from tensorflow.keras.preprocessing.image import ImageDataGenerator, array_to_img, img_to_array, load_img\n",
        "\n",
        "tqdm.pandas()\n",
        "ImageFile.LOAD_TRUNCATED_IMAGES = True\n",
        "# plt.rcParams['font.family'] = 'AppleGothic'\n",
        "plt.rcParams['axes.unicode_minus'] = False"
      ],
      "metadata": {
        "id": "QYgvsB3V6HkY"
      },
      "execution_count": null,
      "outputs": []
    },
    {
      "cell_type": "code",
      "source": [
        "zip_path = '/content/dataset_masked120.zip'\n",
        "ZipFile(zip_path).extractall('/content/drive/MyDrive/')"
      ],
      "metadata": {
        "id": "jec4mMr36Jt3"
      },
      "execution_count": null,
      "outputs": []
    },
    {
      "cell_type": "code",
      "source": [
        "def sub_mean_img(img, mean_img):\n",
        "    img = np.asarray(img)\n",
        "    sub_img = img - mean_img\n",
        "    return sub_img\n",
        "\n",
        "sub_mean_image = lambda img: sub_mean_img(img, mean_img)\n",
        "\n",
        "# mean_img 불러오기\n",
        "if os.path.exists('/content/drive/MyDrive/dataset_masked120/mean_img.jpg'):\n",
        "  mean_img = cv2.imread('/content/drive/MyDrive/dataset_masked120/mean_img.jpg')\n",
        "else:\n",
        "  False"
      ],
      "metadata": {
        "id": "KEZS9RxG6PPD",
        "colab": {
          "base_uri": "https://localhost:8080/",
          "height": 248
        },
        "outputId": "4bc05e45-ea3a-4cd9-889a-d59d6f8c4908"
      },
      "execution_count": 1,
      "outputs": [
        {
          "output_type": "error",
          "ename": "NameError",
          "evalue": "ignored",
          "traceback": [
            "\u001b[0;31m---------------------------------------------------------------------------\u001b[0m",
            "\u001b[0;31mNameError\u001b[0m                                 Traceback (most recent call last)",
            "\u001b[0;32m<ipython-input-1-2fd6b3e68a18>\u001b[0m in \u001b[0;36m<cell line: 9>\u001b[0;34m()\u001b[0m\n\u001b[1;32m      7\u001b[0m \u001b[0;34m\u001b[0m\u001b[0m\n\u001b[1;32m      8\u001b[0m \u001b[0;31m# mean_img 불러오기\u001b[0m\u001b[0;34m\u001b[0m\u001b[0;34m\u001b[0m\u001b[0m\n\u001b[0;32m----> 9\u001b[0;31m \u001b[0;32mif\u001b[0m \u001b[0mos\u001b[0m\u001b[0;34m.\u001b[0m\u001b[0mpath\u001b[0m\u001b[0;34m.\u001b[0m\u001b[0mexists\u001b[0m\u001b[0;34m(\u001b[0m\u001b[0;34m'/content/drive/MyDrive/dataset_masked120/mean_img.jpg'\u001b[0m\u001b[0;34m)\u001b[0m\u001b[0;34m:\u001b[0m\u001b[0;34m\u001b[0m\u001b[0;34m\u001b[0m\u001b[0m\n\u001b[0m\u001b[1;32m     10\u001b[0m   \u001b[0mmean_img\u001b[0m \u001b[0;34m=\u001b[0m \u001b[0mcv2\u001b[0m\u001b[0;34m.\u001b[0m\u001b[0mimread\u001b[0m\u001b[0;34m(\u001b[0m\u001b[0;34m'/content/drive/MyDrive/dataset_masked120/mean_img.jpg'\u001b[0m\u001b[0;34m)\u001b[0m\u001b[0;34m\u001b[0m\u001b[0;34m\u001b[0m\u001b[0m\n\u001b[1;32m     11\u001b[0m \u001b[0;32melse\u001b[0m\u001b[0;34m:\u001b[0m\u001b[0;34m\u001b[0m\u001b[0;34m\u001b[0m\u001b[0m\n",
            "\u001b[0;31mNameError\u001b[0m: name 'os' is not defined"
          ]
        }
      ]
    },
    {
      "cell_type": "code",
      "source": [
        "plt.imshow(mean_img)"
      ],
      "metadata": {
        "colab": {
          "base_uri": "https://localhost:8080/",
          "height": 452
        },
        "id": "bCaCoOuQ_NE6",
        "outputId": "1bfe8542-34b4-403e-f03e-d49b3655d8f2"
      },
      "execution_count": null,
      "outputs": [
        {
          "output_type": "execute_result",
          "data": {
            "text/plain": [
              "<matplotlib.image.AxesImage at 0x783fdc07a530>"
            ]
          },
          "metadata": {},
          "execution_count": 15
        },
        {
          "output_type": "display_data",
          "data": {
            "text/plain": [
              "<Figure size 640x480 with 1 Axes>"
            ],
            "image/png": "[encoded data removed]"
          },
          "metadata": {}
        }
      ]
    },
    {
      "cell_type": "code",
      "source": [
        "train_datagen = ImageDataGenerator(\n",
        "    rotation_range=40,\n",
        "    width_shift_range=0.2,\n",
        "    height_shift_range=0.2,\n",
        "    shear_range=0.2,\n",
        "    zoom_range=0.2,\n",
        "    brightness_range=(0.3, 1.5),\n",
        "    horizontal_flip=True,\n",
        "    vertical_flip=False,\n",
        "    preprocessing_function=sub_mean_image\n",
        ")\n",
        "\n",
        "val_datagen = ImageDataGenerator(\n",
        "    preprocessing_function=sub_mean_image)"
      ],
      "metadata": {
        "id": "j1A0EzhK_PAj"
      },
      "execution_count": null,
      "outputs": []
    },
    {
      "cell_type": "code",
      "source": [
        "batch_size = 32\n",
        "resize_vol = 224\n",
        "train_generator = train_datagen.flow_from_directory(f'/content/drive/MyDrive/dataset_masked120/train',batch_size=batch_size, target_size=(resize_vol, resize_vol))\n",
        "val_generator = val_datagen.flow_from_directory(f'/content/drive/MyDrive/dataset_masked120/val', batch_size=batch_size, target_size = (resize_vol, resize_vol))"
      ],
      "metadata": {
        "colab": {
          "base_uri": "https://localhost:8080/"
        },
        "id": "TB97Ynl7_RN0",
        "outputId": "0507d0ce-1c86-4b91-e185-4b3dde3c35db"
      },
      "execution_count": null,
      "outputs": [
        {
          "output_type": "stream",
          "name": "stdout",
          "text": [
            "Found 26853 images belonging to 23 classes.\n",
            "Found 2996 images belonging to 23 classes.\n"
          ]
        }
      ]
    },
    {
      "cell_type": "code",
      "source": [
        "import math\n",
        "\n",
        "def step_decay(epoch):\n",
        "   initial_lrate = 0.01\n",
        "   drop = 0.5\n",
        "   epochs_drop = 7.0\n",
        "   lrate = initial_lrate * math.pow(drop, math.floor((1+epoch)/epochs_drop))\n",
        "   return lrate\n",
        "\n",
        "lrate = LearningRateScheduler(step_decay)\n",
        "es = tf.keras.callbacks.EarlyStopping(monitor='val_loss', patience=15 ,restore_best_weights=True,start_from_epoch=5)"
      ],
      "metadata": {
        "id": "WY_xEPAB_SbB"
      },
      "execution_count": null,
      "outputs": []
    },
    {
      "cell_type": "code",
      "source": [
        "base_model = tf.keras.applications.resnet50.ResNet50(include_top=False, input_shape = (224,224 ,3), weights = 'imagenet')\n",
        "base_model.trainable = False"
      ],
      "metadata": {
        "id": "X_PbQqGw_U56"
      },
      "execution_count": null,
      "outputs": []
    },
    {
      "cell_type": "code",
      "source": [
        "inputs = tf.keras.Input(shape=(224, 224, 3))\n",
        "\n",
        "x = base_model(inputs, training=False)\n",
        "x = tf.keras.layers.Flatten(input_shape=base_model.output_shape[1:])(x)\n",
        "outputs = tf.keras.layers.Dense(23, activation='softmax')(x)\n",
        "\n",
        "model = tf.keras.Model(inputs, outputs)"
      ],
      "metadata": {
        "id": "HrSjetMq_WNi"
      },
      "execution_count": null,
      "outputs": []
    },
    {
      "cell_type": "code",
      "source": [
        "# categorical_crossentropy\n",
        "model.compile(optimizer = tf.keras.optimizers.AdamW(learning_rate= 0.001),\n",
        "                  loss = 'categorical_crossentropy',\n",
        "                  metrics=['accuracy'])\n",
        "\n",
        "# 모델 fitting\n",
        "history = model.fit(train_generator,\n",
        "                    steps_per_epoch = train_generator.samples // batch_size,\n",
        "                    batch_size=batch_size,\n",
        "                    validation_steps = val_generator.samples // batch_size,\n",
        "                    validation_data=val_generator,\n",
        "                    epochs=300,\n",
        "                    callbacks=[lrate, es])\n",
        "history"
      ],
      "metadata": {
        "colab": {
          "base_uri": "https://localhost:8080/",
          "height": 1000
        },
        "id": "8M50B4d3_XSp",
        "outputId": "8500c5bf-1491-4479-ed6a-013ff3419516"
      },
      "execution_count": null,
      "outputs": [
        {
          "output_type": "stream",
          "name": "stdout",
          "text": [
            "Epoch 1/300\n",
            "839/839 [==============================] - 385s 446ms/step - loss: 402.8004 - accuracy: 0.0975 - val_loss: 465.6291 - val_accuracy: 0.1176 - lr: 0.0100\n",
            "Epoch 2/300\n",
            "839/839 [==============================] - 373s 445ms/step - loss: 456.8568 - accuracy: 0.1224 - val_loss: 481.7486 - val_accuracy: 0.1334 - lr: 0.0100\n",
            "Epoch 3/300\n",
            "839/839 [==============================] - 373s 444ms/step - loss: 464.0287 - accuracy: 0.1338 - val_loss: 496.7072 - val_accuracy: 0.1462 - lr: 0.0100\n",
            "Epoch 4/300\n",
            "839/839 [==============================] - 374s 446ms/step - loss: 468.6612 - accuracy: 0.1452 - val_loss: 518.5932 - val_accuracy: 0.1462 - lr: 0.0100\n",
            "Epoch 5/300\n",
            "839/839 [==============================] - 376s 448ms/step - loss: 475.7898 - accuracy: 0.1523 - val_loss: 523.6553 - val_accuracy: 0.1583 - lr: 0.0100\n",
            "Epoch 6/300\n",
            "839/839 [==============================] - 375s 446ms/step - loss: 476.7350 - accuracy: 0.1570 - val_loss: 544.3668 - val_accuracy: 0.1394 - lr: 0.0100\n",
            "Epoch 7/300\n",
            "839/839 [==============================] - 374s 446ms/step - loss: 352.5381 - accuracy: 0.1926 - val_loss: 380.7343 - val_accuracy: 0.1724 - lr: 0.0050\n",
            "Epoch 8/300\n",
            "839/839 [==============================] - 375s 447ms/step - loss: 314.1315 - accuracy: 0.1992 - val_loss: 363.4389 - val_accuracy: 0.1754 - lr: 0.0050\n",
            "Epoch 9/300\n",
            "839/839 [==============================] - 373s 444ms/step - loss: 299.6137 - accuracy: 0.2010 - val_loss: 335.1248 - val_accuracy: 0.1778 - lr: 0.0050\n",
            "Epoch 10/300\n",
            "839/839 [==============================] - 374s 445ms/step - loss: 289.1639 - accuracy: 0.2033 - val_loss: 354.2490 - val_accuracy: 0.1576 - lr: 0.0050\n",
            "Epoch 11/300\n",
            "839/839 [==============================] - 375s 447ms/step - loss: 283.0317 - accuracy: 0.2036 - val_loss: 351.9381 - val_accuracy: 0.1495 - lr: 0.0050\n",
            "Epoch 12/300\n",
            "839/839 [==============================] - 373s 444ms/step - loss: 279.6077 - accuracy: 0.2056 - val_loss: 321.1769 - val_accuracy: 0.1791 - lr: 0.0050\n",
            "Epoch 13/300\n",
            "839/839 [==============================] - 374s 446ms/step - loss: 269.6977 - accuracy: 0.2075 - val_loss: 345.5798 - val_accuracy: 0.1660 - lr: 0.0050\n",
            "Epoch 14/300\n",
            "839/839 [==============================] - 373s 444ms/step - loss: 216.2816 - accuracy: 0.2353 - val_loss: 265.1442 - val_accuracy: 0.1788 - lr: 0.0025\n",
            "Epoch 15/300\n",
            "839/839 [==============================] - 374s 446ms/step - loss: 196.3497 - accuracy: 0.2400 - val_loss: 266.6489 - val_accuracy: 0.1761 - lr: 0.0025\n",
            "Epoch 16/300\n",
            "839/839 [==============================] - 373s 444ms/step - loss: 190.7173 - accuracy: 0.2428 - val_loss: 250.5231 - val_accuracy: 0.1821 - lr: 0.0025\n",
            "Epoch 17/300\n",
            "839/839 [==============================] - 372s 444ms/step - loss: 182.6885 - accuracy: 0.2412 - val_loss: 245.1506 - val_accuracy: 0.1774 - lr: 0.0025\n",
            "Epoch 18/300\n",
            "839/839 [==============================] - 371s 443ms/step - loss: 178.6569 - accuracy: 0.2468 - val_loss: 233.8343 - val_accuracy: 0.1825 - lr: 0.0025\n",
            "Epoch 19/300\n",
            "839/839 [==============================] - 370s 442ms/step - loss: 177.1964 - accuracy: 0.2451 - val_loss: 243.5546 - val_accuracy: 0.1798 - lr: 0.0025\n",
            "Epoch 20/300\n",
            "839/839 [==============================] - 373s 444ms/step - loss: 171.7643 - accuracy: 0.2464 - val_loss: 234.4961 - val_accuracy: 0.1875 - lr: 0.0025\n",
            "Epoch 21/300\n",
            "125/839 [===>..........................] - ETA: 5:09 - loss: 153.3022 - accuracy: 0.2665"
          ]
        },
        {
          "output_type": "error",
          "ename": "UnknownError",
          "evalue": "ignored",
          "traceback": [
            "\u001b[0;31m---------------------------------------------------------------------------\u001b[0m",
            "\u001b[0;31mUnknownError\u001b[0m                              Traceback (most recent call last)",
            "\u001b[0;32m<ipython-input-20-c007267ad24b>\u001b[0m in \u001b[0;36m<cell line: 7>\u001b[0;34m()\u001b[0m\n\u001b[1;32m      5\u001b[0m \u001b[0;34m\u001b[0m\u001b[0m\n\u001b[1;32m      6\u001b[0m \u001b[0;31m# 모델 fitting\u001b[0m\u001b[0;34m\u001b[0m\u001b[0;34m\u001b[0m\u001b[0m\n\u001b[0;32m----> 7\u001b[0;31m history = model.fit(train_generator,\n\u001b[0m\u001b[1;32m      8\u001b[0m                     \u001b[0msteps_per_epoch\u001b[0m \u001b[0;34m=\u001b[0m \u001b[0mtrain_generator\u001b[0m\u001b[0;34m.\u001b[0m\u001b[0msamples\u001b[0m \u001b[0;34m//\u001b[0m \u001b[0mbatch_size\u001b[0m\u001b[0;34m,\u001b[0m\u001b[0;34m\u001b[0m\u001b[0;34m\u001b[0m\u001b[0m\n\u001b[1;32m      9\u001b[0m                     \u001b[0mbatch_size\u001b[0m\u001b[0;34m=\u001b[0m\u001b[0mbatch_size\u001b[0m\u001b[0;34m,\u001b[0m\u001b[0;34m\u001b[0m\u001b[0;34m\u001b[0m\u001b[0m\n",
            "\u001b[0;32m/usr/local/lib/python3.10/dist-packages/keras/utils/traceback_utils.py\u001b[0m in \u001b[0;36merror_handler\u001b[0;34m(*args, **kwargs)\u001b[0m\n\u001b[1;32m     68\u001b[0m             \u001b[0;31m# To get the full stack trace, call:\u001b[0m\u001b[0;34m\u001b[0m\u001b[0;34m\u001b[0m\u001b[0m\n\u001b[1;32m     69\u001b[0m             \u001b[0;31m# `tf.debugging.disable_traceback_filtering()`\u001b[0m\u001b[0;34m\u001b[0m\u001b[0;34m\u001b[0m\u001b[0m\n\u001b[0;32m---> 70\u001b[0;31m             \u001b[0;32mraise\u001b[0m \u001b[0me\u001b[0m\u001b[0;34m.\u001b[0m\u001b[0mwith_traceback\u001b[0m\u001b[0;34m(\u001b[0m\u001b[0mfiltered_tb\u001b[0m\u001b[0;34m)\u001b[0m \u001b[0;32mfrom\u001b[0m \u001b[0;32mNone\u001b[0m\u001b[0;34m\u001b[0m\u001b[0;34m\u001b[0m\u001b[0m\n\u001b[0m\u001b[1;32m     71\u001b[0m         \u001b[0;32mfinally\u001b[0m\u001b[0;34m:\u001b[0m\u001b[0;34m\u001b[0m\u001b[0;34m\u001b[0m\u001b[0m\n\u001b[1;32m     72\u001b[0m             \u001b[0;32mdel\u001b[0m \u001b[0mfiltered_tb\u001b[0m\u001b[0;34m\u001b[0m\u001b[0;34m\u001b[0m\u001b[0m\n",
            "\u001b[0;32m/usr/local/lib/python3.10/dist-packages/tensorflow/python/eager/execute.py\u001b[0m in \u001b[0;36mquick_execute\u001b[0;34m(op_name, num_outputs, inputs, attrs, ctx, name)\u001b[0m\n\u001b[1;32m     50\u001b[0m   \u001b[0;32mtry\u001b[0m\u001b[0;34m:\u001b[0m\u001b[0;34m\u001b[0m\u001b[0;34m\u001b[0m\u001b[0m\n\u001b[1;32m     51\u001b[0m     \u001b[0mctx\u001b[0m\u001b[0;34m.\u001b[0m\u001b[0mensure_initialized\u001b[0m\u001b[0;34m(\u001b[0m\u001b[0;34m)\u001b[0m\u001b[0;34m\u001b[0m\u001b[0;34m\u001b[0m\u001b[0m\n\u001b[0;32m---> 52\u001b[0;31m     tensors = pywrap_tfe.TFE_Py_Execute(ctx._handle, device_name, op_name,\n\u001b[0m\u001b[1;32m     53\u001b[0m                                         inputs, attrs, num_outputs)\n\u001b[1;32m     54\u001b[0m   \u001b[0;32mexcept\u001b[0m \u001b[0mcore\u001b[0m\u001b[0;34m.\u001b[0m\u001b[0m_NotOkStatusException\u001b[0m \u001b[0;32mas\u001b[0m \u001b[0me\u001b[0m\u001b[0;34m:\u001b[0m\u001b[0;34m\u001b[0m\u001b[0;34m\u001b[0m\u001b[0m\n",
            "\u001b[0;31mUnknownError\u001b[0m: Graph execution error:\n\n2 root error(s) found.\n  (0) UNKNOWN:  FileNotFoundError: [Errno 2] No such file or directory: '/content/drive/MyDrive/dataset_masked120/train/페미닌/페미닌_resized_25264.jpg'\nTraceback (most recent call last):\n\n  File \"/usr/local/lib/python3.10/dist-packages/tensorflow/python/ops/script_ops.py\", line 267, in __call__\n    ret = func(*args)\n\n  File \"/usr/local/lib/python3.10/dist-packages/tensorflow/python/autograph/impl/api.py\", line 642, in wrapper\n    return func(*args, **kwargs)\n\n  File \"/usr/local/lib/python3.10/dist-packages/tensorflow/python/data/ops/from_generator_op.py\", line 198, in generator_py_func\n    values = next(generator_state.get_iterator(iterator_id))\n\n  File \"/usr/local/lib/python3.10/dist-packages/keras/engine/data_adapter.py\", line 902, in wrapped_generator\n    for data in generator_fn():\n\n  File \"/usr/local/lib/python3.10/dist-packages/keras/engine/data_adapter.py\", line 1049, in generator_fn\n    yield x[i]\n\n  File \"/usr/local/lib/python3.10/dist-packages/keras/preprocessing/image.py\", line 116, in __getitem__\n    return self._get_batches_of_transformed_samples(index_array)\n\n  File \"/usr/local/lib/python3.10/dist-packages/keras/preprocessing/image.py\", line 370, in _get_batches_of_transformed_samples\n    img = image_utils.load_img(\n\n  File \"/usr/local/lib/python3.10/dist-packages/keras/utils/image_utils.py\", line 422, in load_img\n    with open(path, \"rb\") as f:\n\nFileNotFoundError: [Errno 2] No such file or directory: '/content/drive/MyDrive/dataset_masked120/train/페미닌/페미닌_resized_25264.jpg'\n\n\n\t [[{{node PyFunc}}]]\n\t [[IteratorGetNext]]\n\t [[IteratorGetNext/_2]]\n  (1) UNKNOWN:  FileNotFoundError: [Errno 2] No such file or directory: '/content/drive/MyDrive/dataset_masked120/train/페미닌/페미닌_resized_25264.jpg'\nTraceback (most recent call last):\n\n  File \"/usr/local/lib/python3.10/dist-packages/tensorflow/python/ops/script_ops.py\", line 267, in __call__\n    ret = func(*args)\n\n  File \"/usr/local/lib/python3.10/dist-packages/tensorflow/python/autograph/impl/api.py\", line 642, in wrapper\n    return func(*args, **kwargs)\n\n  File \"/usr/local/lib/python3.10/dist-packages/tensorflow/python/data/ops/from_generator_op.py\", line 198, in generator_py_func\n    values = next(generator_state.get_iterator(iterator_id))\n\n  File \"/usr/local/lib/python3.10/dist-packages/keras/engine/data_adapter.py\", line 902, in wrapped_generator\n    for data in generator_fn():\n\n  File \"/usr/local/lib/python3.10/dist-packages/keras/engine/data_adapter.py\", line 1049, in generator_fn\n    yield x[i]\n\n  File \"/usr/local/lib/python3.10/dist-packages/keras/preprocessing/image.py\", line 116, in __getitem__\n    return self._get_batches_of_transformed_samples(index_array)\n\n  File \"/usr/local/lib/python3.10/dist-packages/keras/preprocessing/image.py\", line 370, in _get_batches_of_transformed_samples\n    img = image_utils.load_img(\n\n  File \"/usr/local/lib/python3.10/dist-packages/keras/utils/image_utils.py\", line 422, in load_img\n    with open(path, \"rb\") as f:\n\nFileNotFoundError: [Errno 2] No such file or directory: '/content/drive/MyDrive/dataset_masked120/train/페미닌/페미닌_resized_25264.jpg'\n\n\n\t [[{{node PyFunc}}]]\n\t [[IteratorGetNext]]\n0 successful operations.\n0 derived errors ignored. [Op:__inference_train_function_15012]"
          ]
        }
      ]
    },
    {
      "cell_type": "code",
      "source": [],
      "metadata": {
        "id": "aT0eDbgN_Yjy"
      },
      "execution_count": null,
      "outputs": []
    }
  ]
}