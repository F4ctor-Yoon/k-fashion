{
 "cells": [
  {
   "cell_type": "code",
   "execution_count": 1,
   "metadata": {},
   "outputs": [],
   "source": [
    "import requests\n",
    "from bs4 import BeautifulSoup as bs\n",
    "import pandas as pd\n",
    "from time import sleep\n",
    "from tqdm import tqdm\n",
    "import json\n",
    "import os"
   ]
  },
  {
   "cell_type": "code",
   "execution_count": 5,
   "metadata": {},
   "outputs": [],
   "source": [
    "# imgTags = ['레트로', '로맨틱', '리조트', '매니시', '모던', '밀리터리', '섹시', '소피스트케이티드', '스트리트', '스포티', '아방가르드', '오리엔탈', '웨스턴', '젠더리스', '컨트리', '클래식', '키치', '톰보이', '펑크', '페미닌', '프레피', '히피', '힙합']\n",
    "# imgTags = ['밀리터리', '소피스트케이티드', '스트리트', '스포티', '아방가르드', '오리엔탈', '웨스턴', '젠더리스', '컨트리', '클래식', '키치', '톰보이', '펑크', '페미닌', '프레피', '히피', '힙합']\n",
    "# imgTags = ['민소매']"
   ]
  },
  {
   "cell_type": "code",
   "execution_count": 6,
   "metadata": {},
   "outputs": [],
   "source": [
    "def Parsing(searchQuery, lastPage):\n",
    "    # searchQuery = '아방가르드'\n",
    "    os.makedirs('./img/{searchQuery}'.format(searchQuery=searchQuery), exist_ok=True)\n",
    "    \n",
    "    urlDomain = 'https://search.shopping.naver.com'\n",
    "    for page in tqdm(range(3, lastPage+1)):\n",
    "        urlPath = '/search/all?catId=50000167&frm=NVSHCAT&origQuery={searchQuery}&pagingIndex={page}&pagingSize=60&productSet=total&query={searchQuery}&sort=rel&timestamp=&viewType=list'.format(page=page, searchQuery=searchQuery)\n",
    "        url = urlDomain + urlPath\n",
    "        headers = {\n",
    "            'user-agent': 'Mozilla/5.0 (Macintosh; Intel Mac OS X 10_15_7) AppleWebKit/537.36 (KHTML, like Gecko) Chrome/113.0.0.0 Safari/537.36'\n",
    "            }\n",
    "        resp = requests.get(url, headers=headers)\n",
    "        soup = bs(resp.content, 'lxml')\n",
    "\n",
    "        scriptTag = soup.select_one('script#__NEXT_DATA__')\n",
    "        productDict = json.loads(scriptTag.text)['props']['pageProps']['initialState']['products']['list']    \n",
    "        \n",
    "        for product in productDict:\n",
    "            imgUrl = product['item']['imageUrl']\n",
    "            imgName = product['item']['id'] + \"_\" + product['item']['openDate']\n",
    "            \n",
    "            imgResp = requests.get(imgUrl)\n",
    "            with open('./img/{searchQuery}/{imgName}.jpg'.format(searchQuery=searchQuery ,imgName=imgName), 'wb') as f:\n",
    "                f.write(imgResp.content)\n",
    "            sleep(1)\n",
    "        sleep(5)\n",
    "    "
   ]
  },
  {
   "cell_type": "code",
   "execution_count": 7,
   "metadata": {},
   "outputs": [
    {
     "name": "stderr",
     "output_type": "stream",
     "text": [
      "100%|██████████| 17/17 [21:45<00:00, 76.80s/it]\n"
     ]
    }
   ],
   "source": [
    "for imgTag in imgTags:\n",
    "    Parsing(imgTag, 19)"
   ]
  }
 ],
 "metadata": {
  "kernelspec": {
   "display_name": "alphaco1",
   "language": "python",
   "name": "python3"
  },
  "language_info": {
   "codemirror_mode": {
    "name": "ipython",
    "version": 3
   },
   "file_extension": ".py",
   "mimetype": "text/x-python",
   "name": "python",
   "nbconvert_exporter": "python",
   "pygments_lexer": "ipython3",
   "version": "3.8.16"
  },
  "orig_nbformat": 4
 },
 "nbformat": 4,
 "nbformat_minor": 2
}
